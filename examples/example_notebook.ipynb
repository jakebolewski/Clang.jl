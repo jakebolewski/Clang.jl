{
 "cells": [
  {
   "cell_type": "markdown",
   "metadata": {},
   "source": [
    "Prerequisites\n",
    "=============\n",
    "\n",
    "As referred to below, `Index.h` is the libclang API header, available within the Clang source tree at `include/clang-c/Index.h` ([suggested download location](https://raw.github.com/llvm-mirror/clang/master/include/clang-c/Index.h)).\n",
    "\n",
    "The following definitions should be adjusted to match the appropriate paths on your system, if libclang is installed separately from Julia."
   ]
  },
  {
   "cell_type": "code",
   "execution_count": 1,
   "metadata": {
    "collapsed": false
   },
   "outputs": [
    {
     "data": {
      "text/plain": [
       "2-element Array{UTF8String,1}:\n",
       " \"/Users/jacobbolewski/Julia/julia/usr/bin/../lib/clang/3.3/include\"\n",
       " \"/Users/jacobbolewski/Julia/julia/usr/bin/../include/clang-c/..\"   "
      ]
     },
     "execution_count": 1,
     "metadata": {},
     "output_type": "execute_result"
    }
   ],
   "source": [
    "indexh         = joinpath(JULIA_HOME, \"../include/clang-c/Index.h\")\n",
    "clang_includes = [joinpath(JULIA_HOME, \"../lib/clang/3.3/include\"), joinpath(dirname(indexh), \"..\")]"
   ]
  },
  {
   "cell_type": "code",
   "execution_count": 3,
   "metadata": {
    "collapsed": false
   },
   "outputs": [
    {
     "ename": "LoadError",
     "evalue": "LoadError: AssertionError: false\nwhile loading In[3], in expression starting on line 1",
     "output_type": "error",
     "traceback": [
      "LoadError: AssertionError: false\nwhile loading In[3], in expression starting on line 1",
      ""
     ]
    }
   ],
   "source": [
    "@assert false"
   ]
  },
  {
   "cell_type": "markdown",
   "metadata": {},
   "source": [
    "Printing Enums\n",
    "=============="
   ]
  },
  {
   "cell_type": "code",
   "execution_count": 4,
   "metadata": {
    "collapsed": false
   },
   "outputs": [
    {
     "ename": "LoadError",
     "evalue": "LoadError: MethodError: `tu_parse` has no method matching tu_parse(::Ptr{Void}, ::UTF8String, ::Array{UTF8String,1}, ::Int64, ::Ptr{Void}, ::Int64, ::Int64)\nClosest candidates are:\n  tu_parse(::Any, !Matched::ASCIIString, !Matched::Array{ASCIIString,1}, ::Any, ::Ptr{Void}, ::Any, ::Any)\nwhile loading In[4], in expression starting on line 3",
     "output_type": "error",
     "traceback": [
      "LoadError: MethodError: `tu_parse` has no method matching tu_parse(::Ptr{Void}, ::UTF8String, ::Array{UTF8String,1}, ::Int64, ::Ptr{Void}, ::Int64, ::Int64)\nClosest candidates are:\n  tu_parse(::Any, !Matched::ASCIIString, !Matched::Array{ASCIIString,1}, ::Any, ::Ptr{Void}, ::Any, ::Any)\nwhile loading In[4], in expression starting on line 3",
      "",
      " in parse_header at /Users/jacobbolewski/.julia/v0.4/Clang/src/cindex.jl:63"
     ]
    }
   ],
   "source": [
    "using Clang.cindex\n",
    "\n",
    "top = parse_header(indexh; includes=clang_includes, diagnostics=true)\n",
    "\n",
    "function print_enums(enumdef::EnumDecl)\n",
    "    for enum in children(enumdef)\n",
    "        println(\"  const \", name(enum), \" = \", value(enum))\n",
    "    end\n",
    "end\n",
    "\n",
    "for cursor in children(top)\n",
    "    # Skip cursors not in target file\n",
    "    if (basename(cu_file(cursor)) != basename(indexh)) continue end\n",
    "    \n",
    "    got_enum = false\n",
    "    if isa(cursor, EnumDecl)\n",
    "        #if (name(cursor) == \"\") continue end\n",
    "        println(\"# Enum: \", name(cursor))\n",
    "        print_enums(cursor)\n",
    "        got_enum = true\n",
    "    elseif isa(cursor, TypedefDecl)\n",
    "        td_children = children(cursor)\n",
    "        td_children.size == 0 && continue\n",
    "        \n",
    "        td_cursor = td_children[1]\n",
    "        if isa(td_cursor, EnumDecl)\n",
    "            println(\"# Typedef Enum: \", name(td_cursor))\n",
    "            print_enums(td_cursor)\n",
    "            got_enum = true\n",
    "        end\n",
    "    end\n",
    "end"
   ]
  },
  {
   "cell_type": "markdown",
   "metadata": {},
   "source": [
    "Print Functions\n",
    "===============\n",
    "\n",
    "Expected output:\n",
    "\n",
    "```\n",
    "Number of cursors in TranslationUnit: 679\n",
    "Functions:\n",
    "  clang_createIndex(CXIndex,Int,Int,)\n",
    "  clang_disposeIndex(Typedef,)\n",
    "  clang_CXIndex_setGlobalOptions(Typedef,UInt,)\n",
    "  clang_CXIndex_getGlobalOptions(Typedef,)\n",
    "  clang_getFileName(CXString,Typedef,)\n",
    "  clang_getFileTime(time_t,Typedef,)\n",
    "  ...\n",
    "```\n",
    "\n",
    "Note: number of cursors may vary depending on the definitions activated in previous includes based on system type and configuration."
   ]
  },
  {
   "cell_type": "code",
   "execution_count": 5,
   "metadata": {
    "collapsed": false
   },
   "outputs": [
    {
     "ename": "LoadError",
     "evalue": "LoadError: MethodError: `tu_parse` has no method matching tu_parse(::Ptr{Void}, ::UTF8String, ::Array{UTF8String,1}, ::Int64, ::Ptr{Void}, ::Int64, ::Int64)\nClosest candidates are:\n  tu_parse(::Any, !Matched::ASCIIString, !Matched::Array{ASCIIString,1}, ::Any, ::Ptr{Void}, ::Any, ::Any)\nwhile loading In[5], in expression starting on line 41",
     "output_type": "error",
     "traceback": [
      "LoadError: MethodError: `tu_parse` has no method matching tu_parse(::Ptr{Void}, ::UTF8String, ::Array{UTF8String,1}, ::Int64, ::Ptr{Void}, ::Int64, ::Int64)\nClosest candidates are:\n  tu_parse(::Any, !Matched::ASCIIString, !Matched::Array{ASCIIString,1}, ::Any, ::Ptr{Void}, ::Any, ::Any)\nwhile loading In[5], in expression starting on line 41",
      "",
      " in parse_header at /Users/jacobbolewski/.julia/v0.4/Clang/src/cindex.jl:63",
      " in dump_functions at In[5]:25"
     ]
    }
   ],
   "source": [
    "using Clang.cindex\n",
    "\n",
    "get_it(t::TypedefDecl) = get_it(cindex.getTypedefDeclUnderlyingType(t))\n",
    "get_it(d::ParmDecl)    = get_it(cu_type(d))\n",
    "get_it(t::TypeRef)     = spelling(t)\n",
    "get_it(t::Pointer) = string(\"Ptr{\", get_it(cindex.getPointeeType(t)), \"}\")\n",
    "get_it(t::CLType)  = spelling(t)\n",
    "\n",
    "get_it(c::CLCursor) = get_it(cindex.getCursorType(c))\n",
    "get_it(f::FunctionDecl) = spelling(f)\n",
    "\n",
    "function print_function(f::FunctionDecl)\n",
    "    rt = return_type(f)\n",
    "    print(\"  \", get_it(f))\n",
    "    print(\"(\")\n",
    "    for a in children(f)\n",
    "        if !(isa(a, TypeRef) || isa(a, ParmDecl)) break end\n",
    "        print(get_it(a))\n",
    "        print(\",\")\n",
    "    end\n",
    "    print(\")\\n\")\n",
    "end\n",
    "\n",
    "function dump_functions(header::String)\n",
    "    tu = parse_header(header; includes=clang_includes)\n",
    "    tu_children = children(tu)\n",
    "    \n",
    "    println(\"Number of cursors in TranslationUnit: \", length(tu_children))\n",
    "    println(\"Functions:\")\n",
    "    for node in children(tu)\n",
    "        # Skip anything outside of the TU\n",
    "        if (basename(cu_file(node)) != basename(header))\n",
    "            continue\n",
    "        end\n",
    "        if isa(node, FunctionDecl)\n",
    "            print_function(node)\n",
    "        end\n",
    "    end\n",
    "end\n",
    "\n",
    "dump_functions(indexh)"
   ]
  },
  {
   "cell_type": "markdown",
   "metadata": {},
   "source": [
    "Printing Structs\n",
    "================\n",
    "\n",
    "Expected output:\n",
    "```\n",
    "Struct: CXTranslationUnitImpl\n",
    "Struct: CXUnsavedFile\n",
    "Struct: CXVersion\n",
    "Struct: CXVersion\n",
    "Struct: \n",
    "Struct: \n",
    "```\n",
    "Note: it takes a little bit more work to get the name of typedef'd structs. See Clang.jl/src/wrap_c.jl for a full implementation."
   ]
  },
  {
   "cell_type": "code",
   "execution_count": 11,
   "metadata": {
    "collapsed": false
   },
   "outputs": [
    {
     "name": "stdout",
     "output_type": "stream",
     "text": [
      "Struct: CXTranslationUnitImpl\n",
      "Struct: CXUnsavedFile\n",
      "Struct: CXVersion\n",
      "Struct: CXVersion\n",
      "Struct: \n",
      "Struct: \n",
      "Struct: \n",
      "Struct: \n",
      "Struct: \n",
      "Struct: \n",
      "Struct: CXTUResourceUsageEntry\n",
      "Struct: CXTUResourceUsageEntry\n",
      "Struct: CXTUResourceUsage\n",
      "Struct: CXTUResourceUsage\n",
      "Struct: \n",
      "Struct: \n",
      "Struct: \n",
      "Struct: \n",
      "Struct: CXPlatformAvailability\n",
      "Struct: CXPlatformAvailability\n",
      "Struct: CXCursorSetImpl\n",
      "Struct: \n",
      "Struct: \n",
      "Struct: \n",
      "Struct: \n",
      "Struct: \n",
      "Struct: \n",
      "Struct: \n",
      "Struct: \n",
      "Struct: \n",
      "Struct: \n",
      "Struct: \n",
      "Struct: \n",
      "Struct: \n",
      "Struct: \n",
      "Struct: \n",
      "Struct: \n",
      "Struct: \n",
      "Struct: \n",
      "Struct: \n",
      "Struct: \n",
      "Struct: \n",
      "Struct: \n",
      "Struct: \n",
      "Struct: \n",
      "Struct: \n",
      "Struct: \n",
      "Struct: \n",
      "Struct: \n",
      "Struct: \n",
      "Struct: \n",
      "Struct: \n",
      "Struct: \n",
      "Struct: \n",
      "Struct: \n",
      "Struct: \n",
      "Struct: \n",
      "Struct: \n",
      "Struct: \n",
      "Struct: \n",
      "Struct: \n",
      "Struct: \n",
      "Struct: \n",
      "Struct: \n",
      "Struct: \n",
      "Struct: \n",
      "Struct: \n"
     ]
    }
   ],
   "source": [
    "using Clang.cindex\n",
    "\n",
    "get_struct(t::TypedefDecl) = get_struct(cindex.getTypeDeclaration(cindex.getTypedefDeclUnderlyingType(t)))\n",
    "get_struct(d::StructDecl)  = d\n",
    "get_struct(d::CLCursor)    = None\n",
    "\n",
    "function dump_structs(hdr::String)\n",
    "    topcu = parse_header(hdr; includes = clang_includes)\n",
    "    for cu in children(topcu)\n",
    "        # Skip includes\n",
    "        if (basename(cu_file(cu)) != basename(hdr)) continue end\n",
    "        cur = get_struct(cu)\n",
    "        if (cur != None)\n",
    "            println(\"Struct: \", name(cur))\n",
    "        end\n",
    "    end\n",
    "end\n",
    "\n",
    "dump_structs(indexh)"
   ]
  },
  {
   "cell_type": "code",
   "execution_count": null,
   "metadata": {
    "collapsed": false
   },
   "outputs": [],
   "source": []
  }
 ],
 "metadata": {
  "kernelspec": {
   "display_name": "Julia 0.4.0-dev",
   "language": "julia",
   "name": "julia 0.4"
  },
  "language_info": {
   "name": "julia",
   "version": "0.4.0"
  }
 },
 "nbformat": 4,
 "nbformat_minor": 0
}
